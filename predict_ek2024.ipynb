{
 "cells": [
  {
   "cell_type": "code",
   "execution_count": 3,
   "metadata": {},
   "outputs": [
    {
     "name": "stderr",
     "output_type": "stream",
     "text": [
      "2024-06-09 10:04:01.948775: I external/local_tsl/tsl/cuda/cudart_stub.cc:32] Could not find cuda drivers on your machine, GPU will not be used.\n",
      "2024-06-09 10:04:02.692055: I external/local_tsl/tsl/cuda/cudart_stub.cc:32] Could not find cuda drivers on your machine, GPU will not be used.\n",
      "2024-06-09 10:04:04.173204: I tensorflow/core/platform/cpu_feature_guard.cc:210] This TensorFlow binary is optimized to use available CPU instructions in performance-critical operations.\n",
      "To enable the following instructions: AVX2 FMA, in other operations, rebuild TensorFlow with the appropriate compiler flags.\n",
      "2024-06-09 10:04:08.916087: W tensorflow/compiler/tf2tensorrt/utils/py_utils.cc:38] TF-TRT Warning: Could not find TensorRT\n"
     ]
    }
   ],
   "source": [
    "import pandas as pd\n",
    "import numpy as np\n",
    "import keras\n",
    "from keras import layers\n",
    "from keras import ops\n",
    "from keras import utils\n",
    "from keras.optimizers import Adam, SGD, RMSprop\n",
    "from keras.metrics import MeanSquaredError"
   ]
  },
  {
   "cell_type": "code",
   "execution_count": 4,
   "metadata": {},
   "outputs": [
    {
     "name": "stdout",
     "output_type": "stream",
     "text": [
      "<class 'pandas.core.frame.DataFrame'>\n",
      "Index: 47075 entries, 0 to 47074\n",
      "Data columns (total 9 columns):\n",
      " #   Column      Non-Null Count  Dtype         \n",
      "---  ------      --------------  -----         \n",
      " 0   date        47075 non-null  datetime64[ns]\n",
      " 1   home_team   47075 non-null  object        \n",
      " 2   away_team   47075 non-null  object        \n",
      " 3   home_score  47075 non-null  float64       \n",
      " 4   away_score  47075 non-null  float64       \n",
      " 5   tournament  47075 non-null  object        \n",
      " 6   city        47075 non-null  object        \n",
      " 7   country     47075 non-null  object        \n",
      " 8   neutral     47075 non-null  bool          \n",
      "dtypes: bool(1), datetime64[ns](1), float64(2), object(5)\n",
      "memory usage: 3.3+ MB\n"
     ]
    }
   ],
   "source": [
    "df = pd.read_csv('dataset/results.csv')\n",
    "\n",
    "# Drop rows where at least one elelemt is missong\n",
    "df = df.dropna()\n",
    "\n",
    "# Convert data cplumn to date time \n",
    "df['date'] = pd.to_datetime(df['date'])\n",
    "\n",
    "df.info()\n"
   ]
  },
  {
   "cell_type": "code",
   "execution_count": 5,
   "metadata": {},
   "outputs": [],
   "source": [
    "# Get the names of all the countries\n",
    "unique_names = df[['home_team', 'away_team']].stack().drop_duplicates()\n",
    "# Create a list of country names so they can be indexed\n",
    "name_list = list(unique_names)\n",
    "\n",
    "# Add day, month and year as seperate columns\n",
    "df['day'] = [day_nr for day_nr in df['date'].dt.day]\n",
    "df['month'] = [month_nr for month_nr in df['date'].dt.month]\n",
    "df['year'] = [year_nr for year_nr in df['date'].dt.year]\n",
    "\n",
    "#Add the index numbers into the dataframe\n",
    "df['home_team_index'] = [name_list.index(team_name) for team_name in df['home_team']]\n",
    "df['away_team_index'] = [name_list.index(team_name) for team_name in df['away_team']]\n",
    "\n"
   ]
  },
  {
   "cell_type": "code",
   "execution_count": 6,
   "metadata": {},
   "outputs": [],
   "source": [
    "# Shuffle the data set\n",
    "df =df.sample(frac=1)\n",
    "\n",
    "# Create label dataset and feature dataset and convert to numpy arrays\n",
    "df_features = df[['home_team_index','away_team_index','day','month', 'year']].to_numpy().astype(float)\n",
    "df_labels = df[['home_score','away_score']].to_numpy().astype(float)\n",
    "\n",
    "# Split it into a train-, validate- and test set\n",
    "nrOfSamples = len(df_features)\n",
    "train_size = int(nrOfSamples * 0.7)     # Train set is 70% of total set\n",
    "val_size = int(train_size * 0.3)        # Val set is 30% of train set\n",
    "test_size = int(nrOfSamples * 0.3)      # Test set is 30% of the total set\n",
    "\n",
    "# split data set into train and validate\n",
    "train_features, val_features = df_features[:train_size], df_features[train_size:]\n",
    "train_labels, val_labels = df_labels[:train_size], df_labels[train_size:]\n"
   ]
  },
  {
   "cell_type": "code",
   "execution_count": 7,
   "metadata": {},
   "outputs": [],
   "source": [
    "# Create a model\n",
    "model = keras.Sequential(\n",
    "    [\n",
    "        keras.Input(shape=(5,)),\n",
    "        layers.Dense(5, activation = \"relu\"),\n",
    "        layers.Dense(16, activation = \"relu\"),\n",
    "        layers.Dense(16, activation = \"relu\"),\n",
    "        layers.Dense(2),\n",
    "    ]\n",
    ")"
   ]
  },
  {
   "cell_type": "code",
   "execution_count": 8,
   "metadata": {},
   "outputs": [],
   "source": [
    "model.compile(\n",
    "    #optimizer=Adam(learning_rate=0.001),\n",
    "    #loss=keras.losses.CategoricalCrossentropy(),\n",
    "    #metrics=[keras.metrics.CategoricalAccuracy()]\n",
    "\n",
    "    optimizer=RMSprop(learning_rate=0.01),\n",
    "    loss=\"mse\",\n",
    "    metrics=[MeanSquaredError()]\n",
    ")"
   ]
  },
  {
   "cell_type": "code",
   "execution_count": 9,
   "metadata": {},
   "outputs": [
    {
     "name": "stdout",
     "output_type": "stream",
     "text": [
      "Epoch 1/5\n"
     ]
    },
    {
     "name": "stdout",
     "output_type": "stream",
     "text": [
      "\u001b[1m515/515\u001b[0m \u001b[32m━━━━━━━━━━━━━━━━━━━━\u001b[0m\u001b[37m\u001b[0m \u001b[1m9s\u001b[0m 14ms/step - loss: 215.7416 - mean_squared_error: 215.7416 - val_loss: 2.5765 - val_mean_squared_error: 2.5765\n",
      "Epoch 2/5\n",
      "\u001b[1m515/515\u001b[0m \u001b[32m━━━━━━━━━━━━━━━━━━━━\u001b[0m\u001b[37m\u001b[0m \u001b[1m5s\u001b[0m 10ms/step - loss: 2.6080 - mean_squared_error: 2.6080 - val_loss: 2.5729 - val_mean_squared_error: 2.5729\n",
      "Epoch 3/5\n",
      "\u001b[1m515/515\u001b[0m \u001b[32m━━━━━━━━━━━━━━━━━━━━\u001b[0m\u001b[37m\u001b[0m \u001b[1m10s\u001b[0m 9ms/step - loss: 2.4946 - mean_squared_error: 2.4946 - val_loss: 2.6027 - val_mean_squared_error: 2.6027\n",
      "Epoch 4/5\n",
      "\u001b[1m515/515\u001b[0m \u001b[32m━━━━━━━━━━━━━━━━━━━━\u001b[0m\u001b[37m\u001b[0m \u001b[1m6s\u001b[0m 11ms/step - loss: 2.5100 - mean_squared_error: 2.5100 - val_loss: 2.5742 - val_mean_squared_error: 2.5742\n",
      "Epoch 5/5\n",
      "\u001b[1m515/515\u001b[0m \u001b[32m━━━━━━━━━━━━━━━━━━━━\u001b[0m\u001b[37m\u001b[0m \u001b[1m10s\u001b[0m 10ms/step - loss: 2.5556 - mean_squared_error: 2.5556 - val_loss: 2.5736 - val_mean_squared_error: 2.5736\n"
     ]
    }
   ],
   "source": [
    "history=model.fit(\n",
    "    train_features,\n",
    "    train_labels,\n",
    "    batch_size= 64,\n",
    "    epochs=5, \n",
    "    validation_data=(val_features, val_labels)\n",
    ")"
   ]
  },
  {
   "cell_type": "code",
   "execution_count": 16,
   "metadata": {},
   "outputs": [
    {
     "name": "stdout",
     "output_type": "stream",
     "text": [
      "Germany vs Scotland | Germany wins 8 equals 5 lost 4\n",
      "Hungary vs Switzerland | Hungary wins 30 equals 5 lost 11\n",
      "Spain vs Croatia | Spain wins 5 equals 2 lost 3\n",
      "Italy vs Albania | Italy wins 4 equals 0 lost 0\n",
      "Poland vs Netherlands | Poland wins 3 equals 7 lost 9\n",
      "Slovenia vs Denmark | Slovenia wins 0 equals 1 lost 5\n"
     ]
    },
    {
     "name": "stdout",
     "output_type": "stream",
     "text": [
      "Serbia vs England | Serbia wins 0 equals 0 lost 1\n",
      "Romania vs Ukraine | Romania wins 3 equals 1 lost 2\n",
      "Belgium vs Slovakia | Belgium wins 1 equals 2 lost 0\n",
      "Austria vs France | Austria wins 9 equals 3 lost 13\n",
      "Turkey vs Georgia | Turkey wins 3 equals 1 lost 1\n",
      "Portugal vs Czech Republic | Portugal wins 4 equals 0 lost 1\n",
      "Croatia vs Albania | Croatia wins 0 equals 0 lost 0\n",
      "Germany vs Hungary | Germany wins 13 equals 12 lost 11\n",
      "Scotland vs Switzerland | Scotland wins 8 equals 3 lost 5\n",
      "Slovenia vs Serbia | Slovenia wins 1 equals 6 lost 1\n",
      "Denmark vs England | Denmark wins 4 equals 5 lost 13\n",
      "Spain vs Italy | Spain wins 12 equals 16 lost 11\n",
      "Slovakia vs Ukraine | Slovakia wins 2 equals 3 lost 3\n",
      "Poland vs Austria | Poland wins 5 equals 2 lost 3\n",
      "Netherlands vs France | Netherlands wins 11 equals 4 lost 15\n",
      "Georgia vs Czech Republic | Georgia wins 0 equals 0 lost 0\n",
      "Turkey vs Portugal | Turkey wins 2 equals 0 lost 7\n",
      "Belgium vs Romania | Belgium wins 5 equals 2 lost 5\n",
      "Switzerland vs Germany | Switzerland wins 9 equals 8 lost 36\n",
      "Scotland vs Hungary | Scotland wins 3 equals 2 lost 4\n",
      "Albania vs Spain | Albania wins 0 equals 0 lost 8\n",
      "Croatia vs Italy | Croatia wins 3 equals 5 lost 1\n",
      "France vs Poland | France wins 9 equals 5 lost 3\n",
      "Netherlands vs Austria | Netherlands wins 10 equals 4 lost 6\n",
      "Denmark vs Serbia | Denmark wins 3 equals 0 lost 0\n",
      "England vs Slovenia | England wins 5 equals 1 lost 0\n",
      "Slovakia vs Romania | Slovakia wins 1 equals 5 lost 5\n",
      "Ukraine vs Belgium | Ukraine wins 0 equals 0 lost 0\n",
      "Georgia vs Portugal | Georgia wins 0 equals 0 lost 1\n"
     ]
    }
   ],
   "source": [
    "# Create list of matches\n",
    "matches = []\n",
    "# Match day 1\n",
    "matches.extend([['Germany', 'Scotland'], ['Hungary','Switzerland'],['Spain', 'Croatia'],['Italy','Albania']])\n",
    "matches.extend([['Poland','Netherlands'],['Slovenia','Denmark'], ['Serbia', 'England'], ['Romania', \"Ukraine\"]])\n",
    "matches.extend([['Belgium', 'Slovakia'],['Austria', 'France'], ['Turkey', 'Georgia'], ['Portugal', 'Czech Republic']])\n",
    "\n",
    "# Match day 2\n",
    "matches.extend([['Croatia', 'Albania'], ['Germany','Hungary'], ['Scotland', 'Switzerland'], ['Slovenia', 'Serbia']])\n",
    "matches.extend([['Denmark', 'England'],['Spain', 'Italy'], ['Slovakia', 'Ukraine'], ['Poland', 'Austria']])\n",
    "matches.extend([['Netherlands', 'France'], ['Georgia', 'Czech Republic'], ['Turkey', 'Portugal'], ['Belgium', 'Romania']])\n",
    "\n",
    "# Match day 3\n",
    "matches.extend([['Switzerland', 'Germany'], ['Scotland', 'Hungary'], ['Albania', 'Spain'], ['Croatia', 'Italy']])\n",
    "matches.extend([['France', 'Poland'], ['Netherlands', 'Austria'], ['Denmark', 'Serbia'], ['England', 'Slovenia']])\n",
    "matches.extend([['Slovakia', 'Romania'], ['Ukraine', 'Belgium'], ['Georgia', 'Portugal', 'Czech Republic', 'Turkey']])\n",
    "\n",
    "for match in matches:\n",
    "    home_team_index = name_list.index(match[0])\n",
    "    away_team_index = name_list.index(match[1])\n",
    "\n",
    "    # Get records of all matches \n",
    "    df_matches = df[((df['home_team_index']==home_team_index) & (df['away_team_index']==away_team_index)) |\n",
    "                    ((df['home_team_index']==away_team_index) & (df['away_team_index']==home_team_index))]\n",
    "\n",
    "    # Get wins of home_team\n",
    "    df_wins_as_home_team = df_matches[(df_matches['home_team_index'] == home_team_index) & (df_matches['home_score'] > df_matches['away_score'])]\n",
    "    df_wins_as_away_team = df_matches[(df_matches['away_team_index'] == home_team_index) & (df_matches['home_score'] < df_matches['away_score'])]\n",
    "\n",
    "    # Get equals\n",
    "    df_equals = df_matches[df_matches['home_score'] == df_matches['away_score']] \n",
    "\n",
    "    wins_home = len(df_wins_as_home_team) + len(df_wins_as_away_team)\n",
    "    equals = len(df_equals) \n",
    "    lost_home = len(df_matches) - wins_home - equals\n",
    "    print (match[0], \"vs\", match[1], \"|\", match[0], \"wins\", wins_home, \"equals\", equals, \"lost\", lost_home)"
   ]
  },
  {
   "cell_type": "code",
   "execution_count": 15,
   "metadata": {},
   "outputs": [
    {
     "name": "stdout",
     "output_type": "stream",
     "text": [
      "\u001b[1m1/1\u001b[0m \u001b[32m━━━━━━━━━━━━━━━━━━━━\u001b[0m\u001b[37m\u001b[0m \u001b[1m0s\u001b[0m 176ms/step\n",
      "[[1.8369018 1.2197199]]\n",
      "\u001b[1m1/1\u001b[0m \u001b[32m━━━━━━━━━━━━━━━━━━━━\u001b[0m\u001b[37m\u001b[0m \u001b[1m0s\u001b[0m 95ms/step\n",
      "[[1.8369018 1.2197199]]\n",
      "\u001b[1m1/1\u001b[0m \u001b[32m━━━━━━━━━━━━━━━━━━━━\u001b[0m\u001b[37m\u001b[0m \u001b[1m0s\u001b[0m 114ms/step\n",
      "[[1.8369018 1.2197199]]\n"
     ]
    }
   ],
   "source": [
    "# Wedstijd Duitsland - Schotland\n",
    "# Get index of home_team\n",
    "home_team_index = name_list.index('Germany')\n",
    "away_team_index = name_list.index('Scotland')\n",
    "input_x = np.array([home_team_index, away_team_index, 14.0, 6.0, 2024.0])\n",
    "input_x = input_x[None,:]\n",
    "prediction = model.predict(input_x)\n",
    "print(prediction)\n",
    "# 1873-03-08,England,Scotland,4,2\n",
    "home_team_index = name_list.index('England')\n",
    "away_team_index = name_list.index('Scotland')\n",
    "input_x1 = np.array([home_team_index, away_team_index, 8.0, 3.0, 1873.0])\n",
    "input_x1 = input_x1[None,:]\n",
    "prediction1 = model.predict(input_x1)\n",
    "print(prediction1)\n",
    "\n",
    "home_team_index = name_list.index('Netherlands')\n",
    "away_team_index = name_list.index('Scotland')\n",
    "input_x2 = np.array([home_team_index, away_team_index, 17.0, 6.0, 2024.0])\n",
    "input_x2 = input_x2[None,:]\n",
    "prediction2 = model.predict(input_x2)\n",
    "print(prediction2)\n",
    "\n"
   ]
  },
  {
   "cell_type": "code",
   "execution_count": 62,
   "metadata": {},
   "outputs": [
    {
     "name": "stdout",
     "output_type": "stream",
     "text": [
      "[[-43.069107 200.61807 ]]\n"
     ]
    }
   ],
   "source": [
    "print(prediction)"
   ]
  }
 ],
 "metadata": {
  "kernelspec": {
   "display_name": "ek2024",
   "language": "python",
   "name": "python3"
  },
  "language_info": {
   "codemirror_mode": {
    "name": "ipython",
    "version": 3
   },
   "file_extension": ".py",
   "mimetype": "text/x-python",
   "name": "python",
   "nbconvert_exporter": "python",
   "pygments_lexer": "ipython3",
   "version": "3.10.12"
  }
 },
 "nbformat": 4,
 "nbformat_minor": 2
}
